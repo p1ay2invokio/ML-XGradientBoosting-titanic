{
 "cells": [
  {
   "cell_type": "code",
   "execution_count": 2,
   "id": "34ed68fb-25a4-4305-aece-6381361c64d3",
   "metadata": {},
   "outputs": [],
   "source": [
    "import pandas as pd\n",
    "from sklearn.model_selection import train_test_split"
   ]
  },
  {
   "cell_type": "code",
   "execution_count": 5,
   "id": "ab004e46-7f02-437e-8ecd-37d116d42fa0",
   "metadata": {},
   "outputs": [],
   "source": [
    "data = pd.DataFrame({\n",
    "    'Age': [20, 30, 40, 50, 60, 70, 80],\n",
    "    'Income': [4000, 4500, 7000, 9000, 10000, 12000, 12500]\n",
    "})"
   ]
  },
  {
   "cell_type": "code",
   "execution_count": 13,
   "id": "54d76d04-cd5d-4808-aae7-b063eb09a457",
   "metadata": {},
   "outputs": [],
   "source": [
    "X = data[['Age']]\n",
    "Y =  data['Income']"
   ]
  },
  {
   "cell_type": "code",
   "execution_count": 16,
   "id": "5e445159-dbd8-43ef-85f6-c72ccbf908d6",
   "metadata": {},
   "outputs": [
    {
     "data": {
      "text/plain": [
       "0     4000\n",
       "1     4500\n",
       "2     7000\n",
       "3     9000\n",
       "4    10000\n",
       "5    12000\n",
       "6    12500\n",
       "Name: Income, dtype: int64"
      ]
     },
     "execution_count": 16,
     "metadata": {},
     "output_type": "execute_result"
    }
   ],
   "source": [
    "\n",
    "Y"
   ]
  },
  {
   "cell_type": "code",
   "execution_count": null,
   "id": "64832903-dfb4-411a-a6a1-0067dc65ecc0",
   "metadata": {},
   "outputs": [],
   "source": []
  },
  {
   "cell_type": "code",
   "execution_count": null,
   "id": "6432878c-683c-4f54-842b-e43b5ac8591b",
   "metadata": {},
   "outputs": [],
   "source": []
  }
 ],
 "metadata": {
  "kernelspec": {
   "display_name": "Python 3 (ipykernel)",
   "language": "python",
   "name": "python3"
  },
  "language_info": {
   "codemirror_mode": {
    "name": "ipython",
    "version": 3
   },
   "file_extension": ".py",
   "mimetype": "text/x-python",
   "name": "python",
   "nbconvert_exporter": "python",
   "pygments_lexer": "ipython3",
   "version": "3.13.7"
  }
 },
 "nbformat": 4,
 "nbformat_minor": 5
}
